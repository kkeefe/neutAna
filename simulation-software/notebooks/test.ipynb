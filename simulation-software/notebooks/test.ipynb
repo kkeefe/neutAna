{
 "cells": [
  {
   "cell_type": "code",
   "execution_count": 2,
   "id": "21d80956-f054-418e-ac07-1d7952046657",
   "metadata": {},
   "outputs": [
    {
     "name": "stdout",
     "output_type": "stream",
     "text": [
      "Welcome to JupyROOT 6.27/01\n"
     ]
    }
   ],
   "source": [
    "import sys\n",
    "sys.path.append(\"../\")\n",
    "\n",
    "import ROOT\n",
    "import numpy as np\n",
    "import matplotlib.pyplot as plt\n",
    "import pandas"
   ]
  },
  {
   "cell_type": "code",
   "execution_count": 9,
   "id": "e100fa82-06f2-42c9-9b4b-4101fba5cbc3",
   "metadata": {},
   "outputs": [],
   "source": [
    "ROOT.rand = ROOT.TRandom3()\n",
    "\n",
    "def poisson(x, mean):\n",
    "    \"\"\"\n",
    "    ensure that mean is some int\n",
    "    \"\"\"\n",
    "    assert isinstance(mean, int), \"can only have integer mean values\"\n",
    "    x = int(x) # poisson only makes sense for int args\n",
    "    return ROOT.TMath.Poisson(x,mean)\n",
    "\n",
    "def gamma(x, mean):\n",
    "    return 1 - ROOT.TMath.Gamma(x, mean)\n",
    "\n",
    "def uniform():\n",
    "    return ROOT.rand.Uniform()\n",
    "\n",
    "def randomPoisson(mean, nSamples):\n",
    "    \"\"\"\n",
    "    randomly sample the poisson to return number of events\n",
    "    \"\"\"\n",
    "    assert isinstance(nSamples, int), \"need integer number of samples to draw from\"\n",
    "    samples = [ROOT.rand.Poisson(mean) for i in range(nSamples)]\n",
    "    return samples\n",
    "\n",
    "def randomErlang(mean, nEvts, nSamples):\n",
    "    \"\"\"\n",
    "    randomly sample the gamma to return number of events\n",
    "    \"\"\"\n",
    "    assert isinstance(nSamples, int), \"need integer number of samples to draw from\"\n",
    "    def erlang():\n",
    "        return -1 * np.sum([ROOT.TMath.Log(ROOT.rand.Uniform()) for i in range(nEvts)]) / mean\n",
    "    samples = [erlang() for i in range(nSamples)]\n",
    "    return samples"
   ]
  },
  {
   "cell_type": "code",
   "execution_count": 99,
   "id": "755f8d1d-b99b-41a5-ae24-9577336a0796",
   "metadata": {},
   "outputs": [
    {
     "data": {
      "text/plain": [
       "[<matplotlib.lines.Line2D at 0x7fc36ca70850>]"
      ]
     },
     "execution_count": 99,
     "metadata": {},
     "output_type": "execute_result"
    },
    {
     "data": {
      "image/png": "[encoded data removed]",
      "text/plain": [
       "<Figure size 432x288 with 1 Axes>"
      ]
     },
     "metadata": {
      "needs_background": "light"
     },
     "output_type": "display_data"
    }
   ],
   "source": [
    "mean, nSamples = 20, int(3e5)\n",
    "samples = randomPoisson(mean, nSamples)\n",
    "a = plt.hist(samples, density=True)\n",
    "x = np.arange(int(np.min(a[1])), int(np.max(a[1]))+1)\n",
    "p1 = [poisson(i, mean) for i in x]\n",
    "plt.plot(x,p1)"
   ]
  },
  {
   "cell_type": "code",
   "execution_count": 46,
   "id": "26916dd9-5045-4454-89f4-813c404eba85",
   "metadata": {},
   "outputs": [
    {
     "data": {
      "image/png": "[encoded data removed]",
      "text/plain": [
       "<Figure size 432x288 with 1 Axes>"
      ]
     },
     "metadata": {
      "needs_background": "light"
     },
     "output_type": "display_data"
    }
   ],
   "source": [
    "mean, nEvts, nSamples = 1, 9, int(1e4)\n",
    "samples = randomErlang(mean, nEvts, nSamples)\n",
    "a = plt.hist(samples, density=True)"
   ]
  },
  {
   "cell_type": "code",
   "execution_count": 34,
   "id": "8f76064a-f514-4ec5-9791-dc8c4a41dcd6",
   "metadata": {},
   "outputs": [
    {
     "name": "stdout",
     "output_type": "stream",
     "text": [
      "<class 'cppyy.CPPOverload'> <class cppyy.gbl.TRandom at 0x5630abe82820>\n"
     ]
    }
   ],
   "source": [
    "print(type(ROOT.rand), type(ROOT.TRandom()))"
   ]
  },
  {
   "cell_type": "code",
   "execution_count": 91,
   "id": "a0534b14-7e84-4a66-b537-ab86568c47c7",
   "metadata": {},
   "outputs": [
    {
     "name": "stdout",
     "output_type": "stream",
     "text": [
      "snake\n",
      "0 - (3)(3)(3)(3)(3)(3)(3)(3)\n",
      "1 - (2)(2)(2)(2)(2)(2)(2)(1)\n",
      "2 - (1)(3)(3)(3)(3)(3)(3)(3)\n",
      "3 - (2)(2)(2)(2)(2)(2)(2)(1)\n",
      "4 - (1)(3)(3)(3)(3)(3)(3)(3)\n",
      "5 - (2)(2)(2)(2)(2)(2)(2)(1)\n",
      "6 - (1)(3)(3)(3)(3)(3)(3)(3)\n",
      "7 - (2)(2)(2)(2)(2)(2)(2)(1)\n",
      "trunk\n",
      "0 - (3)(3)(1)(2)(2)(2)(2)(2)\n",
      "1 - (3)(3)(1)(2)(2)(2)(2)(2)\n",
      "2 - (3)(3)(1)(2)(2)(2)(2)(2)\n",
      "3 - (3)(3)(1)(2)(2)(2)(2)(2)\n",
      "4 - (3)(3)(1)(2)(2)(2)(2)(2)\n",
      "5 - (3)(3)(1)(2)(2)(2)(2)(2)\n",
      "6 - (3)(3)(1)(2)(2)(2)(2)(2)\n",
      "7 - (3)(3)(1)(2)(2)(2)(2)(2)\n"
     ]
    }
   ],
   "source": [
    "import numpy as np\n",
    "\n",
    "def printArr(x):\n",
    "    for i, row in enumerate(x):\n",
    "        print(f\"{i} - \", end=\"\")\n",
    "        for j, d in enumerate(row):\n",
    "            print(f\"({d:.0f})\", end=\"\")\n",
    "        print()\n",
    "\n",
    "def route(x, r=0, type=\"snake\"):\n",
    "    \"\"\"\n",
    "    args: r is the row position of the daq-node\n",
    "    \"\"\"\n",
    "    assert all(isinstance(row, (list, np.ndarray)) for row in x), f\"{x} not a matrix\"\n",
    "    row_size = len(x)\n",
    "    col_size = len(x[0])\n",
    "    assert all(len(ele) == col_size for ele in x), f\"col sizes different in {x}\"\n",
    "    \n",
    "    # parameterize this for general di location\n",
    "    # edge = \n",
    "    \n",
    "    def makeSnake(x):\n",
    "        # snake if DAQ on left\n",
    "        for i, row in enumerate(x):\n",
    "            for j, d in enumerate(row):            \n",
    "                if not(i%2 == 0) and j == col_size-1:\n",
    "                    x[i][j] = 1\n",
    "                elif i%2 == 0:\n",
    "                    if j == 0 and not(i == 0):\n",
    "                        x[i][j] = 1\n",
    "                    else:\n",
    "                        x[i][j] = 3\n",
    "                else:\n",
    "                    x[i][j] = 2                \n",
    "        return x\n",
    "    \n",
    "    def makeTrunk(x, r):\n",
    "        for i, row in enumerate(x):\n",
    "            for j, d in enumerate(row):            \n",
    "                if j == r:\n",
    "                    x[i][j] = 1\n",
    "                elif j < r:\n",
    "                    x[i][j] = 3\n",
    "                else:\n",
    "                    x[i][j] = 2                \n",
    "        return x\n",
    "    \n",
    "    if type==\"snake\":\n",
    "        return makeSnake(x)\n",
    "    elif type==\"trunk\":\n",
    "        return makeTrunk(x, r)\n",
    "    else:\n",
    "        print(\"unrecognized type\")\n",
    "        return None\n",
    "\n",
    "        \n",
    "x = np.zeros((8,8))\n",
    "\n",
    "print(\"snake\")\n",
    "printArr(route(x))\n",
    "print(\"trunk\")\n",
    "printArr(route(x, r=2,type=\"trunk\"))"
   ]
  },
  {
   "cell_type": "code",
   "execution_count": 86,
   "id": "1c34fd11-d27f-4843-8593-5c36c3ee07bf",
   "metadata": {},
   "outputs": [
    {
     "name": "stdout",
     "output_type": "stream",
     "text": [
      "[[0. 0. 0. 0. 0. 0. 0. 0.]\n",
      " [0. 0. 0. 0. 0. 0. 0. 0.]\n",
      " [0. 0. 0. 0. 0. 0. 0. 0.]\n",
      " [0. 0. 0. 0. 0. 0. 0. 0.]\n",
      " [0. 0. 0. 0. 0. 0. 0. 0.]\n",
      " [0. 0. 0. 0. 0. 0. 0. 0.]\n",
      " [0. 0. 0. 0. 0. 0. 0. 0.]\n",
      " [0. 0. 0. 0. 0. 0. 0. 0.]]\n",
      "<class 'numpy.ndarray'>\n"
     ]
    }
   ],
   "source": [
    "x = np.zeros((8,8))\n",
    "print(x)\n",
    "print(type(x[0]))"
   ]
  }
 ],
 "metadata": {
  "kernelspec": {
   "display_name": "Python 3 (ipykernel)",
   "language": "python",
   "name": "python3"
  },
  "language_info": {
   "codemirror_mode": {
    "name": "ipython",
    "version": 3
   },
   "file_extension": ".py",
   "mimetype": "text/x-python",
   "name": "python",
   "nbconvert_exporter": "python",
   "pygments_lexer": "ipython3",
   "version": "3.9.12"
  }
 },
 "nbformat": 4,
 "nbformat_minor": 5
}
